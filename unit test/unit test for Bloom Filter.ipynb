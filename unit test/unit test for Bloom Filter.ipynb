{
 "cells": [
  {
   "cell_type": "markdown",
   "metadata": {},
   "source": [
    "## Unit Test for Bloom Filter"
   ]
  },
  {
   "cell_type": "code",
   "execution_count": 7,
   "metadata": {},
   "outputs": [],
   "source": [
    "import importlib.util\n",
    "import sys\n",
    "import os\n",
    "\n",
    "module_path = os.path.abspath(os.path.join('..', 'src', 'bloom_filter.py'))\n",
    "\n",
    "spec = importlib.util.spec_from_file_location(\"bloom_filter\", module_path)\n",
    "bloom_filter = importlib.util.module_from_spec(spec)\n",
    "sys.modules[\"bloom_filter\"] = bloom_filter\n",
    "spec.loader.exec_module(bloom_filter)\n",
    "\n",
    "BloomFilter = bloom_filter.BloomFilter\n"
   ]
  },
  {
   "cell_type": "code",
   "execution_count": 12,
   "metadata": {},
   "outputs": [
    {
     "name": "stdout",
     "output_type": "stream",
     "text": [
      "BloomFilter imported and instance created successfully!\n"
     ]
    },
    {
     "data": {
      "text/plain": [
       "<bloom_filter.BloomFilter at 0x1079b3c50>"
      ]
     },
     "execution_count": 12,
     "metadata": {},
     "output_type": "execute_result"
    }
   ],
   "source": [
    "# try to see if we import correctly\n",
    "bloom_filter_instance = BloomFilter(size=1000, hash_count=3)\n",
    "print(\"BloomFilter imported and instance created successfully!\")"
   ]
  },
  {
   "cell_type": "code",
   "execution_count": 19,
   "metadata": {},
   "outputs": [
    {
     "name": "stderr",
     "output_type": "stream",
     "text": [
      "......\n",
      "----------------------------------------------------------------------\n",
      "Ran 6 tests in 0.003s\n",
      "\n",
      "OK\n"
     ]
    },
    {
     "data": {
      "text/plain": [
       "<unittest.main.TestProgram at 0x107956e90>"
      ]
     },
     "execution_count": 19,
     "metadata": {},
     "output_type": "execute_result"
    }
   ],
   "source": [
    "import unittest\n",
    "from bitarray import bitarray\n",
    "import random  # Import random for setting seed\n",
    "\n",
    "class TestBloomFilter(unittest.TestCase):\n",
    "    def setUp(self):\n",
    "        # Initialize Bloom Filter with size and number of hash functions\n",
    "        self.bloom_filter = BloomFilter(size=1000, hash_count=3)\n",
    "\n",
    "    def test_basic_add_and_check(self):\n",
    "        \"\"\"Test adding an element and checking its presence\"\"\"\n",
    "        self.bloom_filter.add(\"apple\")\n",
    "        self.assertTrue(self.bloom_filter.check(\"apple\"), \"'apple' should be in the Bloom Filter\")\n",
    "        self.assertFalse(self.bloom_filter.check(\"banana\"), \"'banana' should not be in the Bloom Filter\")\n",
    "\n",
    "    def test_jurisdiction_hashing(self):\n",
    "        \"\"\"Test adding and checking an element with jurisdictional hashing\"\"\"\n",
    "        self.bloom_filter.add(\"apple\", jurisdiction=True)\n",
    "        self.assertTrue(self.bloom_filter.check(\"apple\", jurisdiction=True), \"'apple' should be in the Bloom Filter with jurisdictional hashing\")\n",
    "        self.assertFalse(self.bloom_filter.check(\"banana\", jurisdiction=True), \"'banana' should not be in the Bloom Filter with jurisdictional hashing\")\n",
    "\n",
    "    def test_optimized_hashing(self):\n",
    "        \"\"\"Test adding and checking an element with optimized hashing\"\"\"\n",
    "        self.bloom_filter.add(\"apple\", optimized=True)\n",
    "        self.assertTrue(self.bloom_filter.check(\"apple\", optimized=True), \"'apple' should be in the Bloom Filter with optimized hashing\")\n",
    "        self.assertFalse(self.bloom_filter.check(\"banana\", optimized=True), \"'banana' should not be in the Bloom Filter with optimized hashing\")\n",
    "\n",
    "    def test_universal_hashing(self):\n",
    "        \"\"\"Test adding and checking an element with universal hashing\"\"\"\n",
    "        # Set a fixed seed before each call to ensure consistency\n",
    "        random.seed(42)\n",
    "        self.bloom_filter.add(\"apple\", universal=True)\n",
    "        \n",
    "        random.seed(42)\n",
    "        self.assertTrue(self.bloom_filter.check(\"apple\", universal=True), \"'apple' should be in the Bloom Filter with universal hashing\")\n",
    "        \n",
    "        random.seed(42)\n",
    "        self.assertFalse(self.bloom_filter.check(\"banana\", universal=True), \"'banana' should not be in the Bloom Filter with universal hashing\")\n",
    "\n",
    "    def test_false_positive_rate(self):\n",
    "        \"\"\"Test if false positive rate is within acceptable range\"\"\"\n",
    "        sample_data = [f\"item{i}\" for i in range(100)]\n",
    "        non_existent_data = [f\"test{i}\" for i in range(100, 200)]\n",
    "        \n",
    "        for item in sample_data:\n",
    "            self.bloom_filter.add(item)\n",
    "        \n",
    "        # Calculate false positive rate\n",
    "        false_positives = sum(1 for item in non_existent_data if self.bloom_filter.check(item))\n",
    "        false_positive_rate = false_positives / len(non_existent_data)\n",
    "        \n",
    "        # Assume expected false positive rate is no higher than 0.05\n",
    "        self.assertLessEqual(false_positive_rate, 0.05, \"False positive rate is too high\")\n",
    "\n",
    "    def test_empty_bloom_filter(self):\n",
    "        \"\"\"Test that an empty Bloom Filter does not contain any elements\"\"\"\n",
    "        self.assertFalse(self.bloom_filter.check(\"apple\"), \"'apple' should not be in an empty Bloom Filter\")\n",
    "        self.assertFalse(self.bloom_filter.check(\"banana\"), \"'banana' should not be in an empty Bloom Filter\")\n",
    "\n",
    "# Run tests\n",
    "unittest.main(argv=[''], exit=False)\n"
   ]
  },
  {
   "cell_type": "code",
   "execution_count": null,
   "metadata": {},
   "outputs": [],
   "source": []
  }
 ],
 "metadata": {
  "kernelspec": {
   "display_name": "base",
   "language": "python",
   "name": "python3"
  },
  "language_info": {
   "codemirror_mode": {
    "name": "ipython",
    "version": 3
   },
   "file_extension": ".py",
   "mimetype": "text/x-python",
   "name": "python",
   "nbconvert_exporter": "python",
   "pygments_lexer": "ipython3",
   "version": "3.11.3"
  }
 },
 "nbformat": 4,
 "nbformat_minor": 2
}
